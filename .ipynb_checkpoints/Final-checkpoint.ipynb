{
 "cells": [
  {
   "cell_type": "code",
   "execution_count": 1,
   "metadata": {
    "collapsed": false,
    "scrolled": true
   },
   "outputs": [],
   "source": [
    "import pymysql as mdb\n",
    "\n",
    "connection = mdb.connect('128.206.116.195', 'tg4_ro', '?3stEt7!3hUbRa-R', 'tw4_db')"
   ]
  },
  {
   "cell_type": "markdown",
   "metadata": {},
   "source": [
    "##### This tells us that the first date that a tweet was made was 11/11/2015 and that the last date a tweet was made in the collection was made on 4/21/2016"
   ]
  },
  {
   "cell_type": "code",
   "execution_count": null,
   "metadata": {
    "collapsed": false
   },
   "outputs": [],
   "source": [
    "import pandas as pd\n",
    "\n",
    "sql = 'SELECT * FROM tweet WHERE job_id = 4257'\n",
    "df = pd.read_sql(sql, connection)\n",
    "\n",
    "print(df)\n",
    "\n",
    "csv_file = 'output/mizzouHashtagTweets.csv'\n",
    "\n",
    "df.to_csv(csv_file, index=False)"
   ]
  },
  {
   "cell_type": "code",
   "execution_count": null,
   "metadata": {
    "collapsed": true
   },
   "outputs": [],
   "source": [
    "types = {\n",
    "    'tweet_id_str': np.dtype(object),\n",
    "    'job_id': np.dtype(float),\n",
    "    'text': np.dtype(str),\n",
    "    'from_user': np.dtype(str),\n",
    "    'from_user_id_str': np.dtype(str),\n",
    "    'from_user_name': np.dtype(str),\n",
    "    'from_user_fullname': np.dtype(str),\n",
    "    'from_user_followers': np.dtype(str),\n",
    "    'from_user_following': np.dtype(str),\n",
    "    'from_user_favorites': np.dtype(str),\n",
    "    'from_user_tweets': np.dtype(str),\n",
    "    'from_user_timezone': np.dtype(str),\n",
    "    'to_user': np.dtype(str),\n",
    "    'to_user_id_str': np.dtype(str),\n",
    "    'to_user_name': np.dtype(str),\n",
    "    'source': np.dtype(str),\n",
    "    'location_geo': np.dtype(object),\n",
    "    'location_geo_0': np.dtype(float),\n",
    "    'location_geo_1': np.dtype(float),\n",
    "    'iso_language': np.dtype('a3'),\n",
    "    'analysis_state': np.dtype(float),\n",
    "}\n",
    "\n",
    "df2 = pd.read_csv(csv_file, dtype=types, parse_dates=['created_at'])"
   ]
  },
  {
   "cell_type": "markdown",
   "metadata": {},
   "source": [
    "## Descriptive Statistics"
   ]
  },
  {
   "cell_type": "markdown",
   "metadata": {},
   "source": [
    "### 1) How many tweets are in the collection?"
   ]
  },
  {
   "cell_type": "code",
   "execution_count": null,
   "metadata": {
    "collapsed": true
   },
   "outputs": [],
   "source": [
    "print(str(len(df2.index)))"
   ]
  },
  {
   "cell_type": "markdown",
   "metadata": {},
   "source": [
    "### 2) When do they start?"
   ]
  },
  {
   "cell_type": "markdown",
   "metadata": {},
   "source": [
    "### 3) When do they end?"
   ]
  },
  {
   "cell_type": "markdown",
   "metadata": {},
   "source": [
    "### 4) What is the trend for tweet volume?"
   ]
  },
  {
   "cell_type": "markdown",
   "metadata": {},
   "source": [
    "### 5) If you look at the most common words over the lifetime of the search, do you notice any particular trends associated with those words?"
   ]
  },
  {
   "cell_type": "markdown",
   "metadata": {},
   "source": [
    "### 6) What external events might correspond with the differences in the trends of most common words?"
   ]
  },
  {
   "cell_type": "markdown",
   "metadata": {},
   "source": [
    "### 7) What hashtags show up as most prominent in each month of the lifecycle?"
   ]
  },
  {
   "cell_type": "markdown",
   "metadata": {},
   "source": [
    "### 8) Which twitter users are the most mentioned?"
   ]
  },
  {
   "cell_type": "markdown",
   "metadata": {},
   "source": [
    "### 9) How frequently is each user mentioned during each month of the lifecycle?"
   ]
  },
  {
   "cell_type": "markdown",
   "metadata": {},
   "source": [
    "### 10) What is the relationship between the volume of tweets you selected and the colume of tweets for other collections in the data set?"
   ]
  },
  {
   "cell_type": "code",
   "execution_count": null,
   "metadata": {
    "collapsed": true
   },
   "outputs": [],
   "source": []
  }
 ],
 "metadata": {
  "kernelspec": {
   "display_name": "Python 3",
   "language": "python",
   "name": "python3"
  },
  "language_info": {
   "codemirror_mode": {
    "name": "ipython",
    "version": 3
   },
   "file_extension": ".py",
   "mimetype": "text/x-python",
   "name": "python",
   "nbconvert_exporter": "python",
   "pygments_lexer": "ipython3",
   "version": "3.4.3"
  }
 },
 "nbformat": 4,
 "nbformat_minor": 0
}
