{
 "cells": [
  {
   "cell_type": "code",
   "execution_count": 7,
   "metadata": {
    "collapsed": false
   },
   "outputs": [
    {
     "ename": "ERROR",
     "evalue": "Error in library(\"RMySQL\"): there is no package called ‘RMySQL’\n",
     "output_type": "error",
     "traceback": [
      "Error in library(\"RMySQL\"): there is no package called ‘RMySQL’\n"
     ]
    }
   ],
   "source": [
    "library(\"RMySQL\")"
   ]
  },
  {
   "cell_type": "code",
   "execution_count": 1,
   "metadata": {
    "collapsed": false
   },
   "outputs": [
    {
     "ename": "ERROR",
     "evalue": "Error in eval(expr, envir, enclos): could not find function \"dbConnect\"\n",
     "output_type": "error",
     "traceback": [
      "Error in eval(expr, envir, enclos): could not find function \"dbConnect\"\n"
     ]
    }
   ],
   "source": [
    "mydb = dbConnect(MySQL(), user='tg4_ro', password='?3stEt7!3hUbRa-R', dbname='tw4_db', host='128.206.116.195')"
   ]
  }
 ],
 "metadata": {
  "kernelspec": {
   "display_name": "R",
   "language": "R",
   "name": "ir"
  },
  "language_info": {
   "codemirror_mode": "r",
   "file_extension": ".r",
   "mimetype": "text/x-r-source",
   "name": "R",
   "pygments_lexer": "r",
   "version": "3.2.3"
  }
 },
 "nbformat": 4,
 "nbformat_minor": 0
}
