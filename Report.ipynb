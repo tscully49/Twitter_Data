{
 "cells": [
  {
   "cell_type": "markdown",
   "metadata": {},
   "source": [
    "# Report"
   ]
  },
  {
   "cell_type": "markdown",
   "metadata": {},
   "source": [
    "### Data Carpentry\n",
    "\n",
    "The data carpentry work that I did for the descriptive analysis involved putting the job_id tweets in a dataframe that was created through pandas.  With the dataframe, I was able to easily analyze the data and make calculations on it.  I attempted to try to write the data to a CSV, but the function ended up adding extra rows, so I didn't worry about exporting it.  Once it was in the dataframe, I didn't need to do much more carpentry to the data.  The only other carpentry I did was to sort the tweets in a new dictionary by the month and week that they were given in.  This helped me to track the tweets over time as well as track common words over time.  In order to get common words, I just split each text of the tweet up into words and kept a list of all words.  After I had the tweets split up into weeks and months, it was really easy to sort the hashtags and twitter mentions.\n",
    "\n",
    "For the question, I just created a dictionary with all of the topics that I wanted to search for and used the pandas function to import a dataframe of each topic into the dictionary.  After that, I could add different tweets into the training and test data set by number of tweets.  I put 3/4 of each job_id in the trainer and the last 1/4 in the test set.  From there, I could easily train my model."
   ]
  },
  {
   "cell_type": "markdown",
   "metadata": {
    "collapsed": true
   },
   "source": [
    "### Results\n",
    "\n",
    "My results for the question ended up being a big success.  After training my model, I found that the model was 94.69% correct in predicting what the description of the tweet was based on the words in the tweet.  This shows that it is very possible to do this just based on what keywords are in the tweet.  Most of these are probably hashtags and/or some keywords associated with the topic.  \n",
    "\n",
    "This makes sense because Twitter created the hastag to try and find a way to relate tweets together.  When someone uses a hashtag, that means they are talking about something specific and can then see other tweets with the same hashtag to see what other people are saying about that topic.  This proves that there is a large correlation among tweets with hashtags, assuming that people are using hashtags in the tweets that are related to a specific topic.  Although this method is not 100%, it is most likely that the hashtag is a strong indicator of being able to guess what a tweet is about.  If anything, this helps to prove that Twitter accomplished their goal by creating the hashtag.  Kinda cool if you ask me!\n",
    "\n",
    "Aside from hashtags, there is also most likely a strong correlation between keywords in the tweet (aside from a hashtag) and the description of the tweet.  Often times, when someone uses the word 'birthday' in a tweet, they are talking about a birthday (or we would hope so).  This holds true for many of the tweets in the model.  Maybe someone was talking about Mizzou, but didn't use the word Mizzou.  The next best way to guess that they were talking about Mizzou, would be if they used the word 'Mizzou' in their tweet.  This is still not 100% accurate because maybe they are talking about a football game with Mizzou in it, or a group of colleges, and Mizzou just happened to be one of them.  Although this way is not perfect, it helps to describe why this model might be working well.  \n",
    "\n",
    "The results show that there isn't quite a 100% correlation for this process.  Reasons could be of the following: maybe someone didn't use a hashtag, maybe they used multiple hashtags, or maybe their hashtag had nothing to do with the topic that they were tweeting about.  Although the hashtag is a key component in figuring out what a user is tweeting about, they have to be used, and in the correct way, in order for it to be a perfect predictor of the description.  This makes it very hard for the model to ever be 100%, because we are putting too much faith in the users that they will use the hash tags perfectly correct.  "
   ]
  },
  {
   "cell_type": "code",
   "execution_count": null,
   "metadata": {
    "collapsed": true
   },
   "outputs": [],
   "source": []
  }
 ],
 "metadata": {
  "kernelspec": {
   "display_name": "Python 3",
   "language": "python",
   "name": "python3"
  },
  "language_info": {
   "codemirror_mode": {
    "name": "ipython",
    "version": 3
   },
   "file_extension": ".py",
   "mimetype": "text/x-python",
   "name": "python",
   "nbconvert_exporter": "python",
   "pygments_lexer": "ipython3",
   "version": "3.4.3"
  }
 },
 "nbformat": 4,
 "nbformat_minor": 0
}
